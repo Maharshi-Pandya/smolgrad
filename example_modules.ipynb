{
 "cells": [
  {
   "cell_type": "code",
   "execution_count": 1,
   "metadata": {},
   "outputs": [],
   "source": [
    "from smolgrad import Tensor\n",
    "from smolgrad.core import no_grad\n",
    "import smolgrad.nn as nn"
   ]
  },
  {
   "cell_type": "code",
   "execution_count": 2,
   "metadata": {},
   "outputs": [],
   "source": [
    "n_embd = 10\n",
    "block_size = 12\n",
    "vocab_size = 5\n",
    "\n",
    "model = nn.ModuleDict(dict(\n",
    "    wte = nn.Embedding(vocab_size, n_embd),\n",
    "    # wpe = nn.Embedding(block_size, n_embd),\n",
    "    # h = nn.ModuleList([nn.Linear(n_embd, n_embd) for _ in range(3)]),\n",
    "    # ln_f = nn.LayerNorm(n_embd)\n",
    "))\n",
    "model.eval()"
   ]
  },
  {
   "cell_type": "code",
   "execution_count": 3,
   "metadata": {},
   "outputs": [
    {
     "name": "stdout",
     "output_type": "stream",
     "text": [
      "(2, 5)\n"
     ]
    }
   ],
   "source": [
    "input_tensor = Tensor([[1, 2, 3, 4, 0], [2, 4, 3, 0, 1]])\n",
    "print(input_tensor.shape)\n",
    "\n",
    "with no_grad():\n",
    "    output = model(input_tensor)"
   ]
  },
  {
   "cell_type": "code",
   "execution_count": 4,
   "metadata": {},
   "outputs": [
    {
     "data": {
      "text/plain": [
       "(2, 5, 10)"
      ]
     },
     "execution_count": 4,
     "metadata": {},
     "output_type": "execute_result"
    }
   ],
   "source": [
    "output.shape"
   ]
  },
  {
   "cell_type": "code",
   "execution_count": 5,
   "metadata": {},
   "outputs": [
    {
     "data": {
      "text/plain": [
       "Tensor(array([[[0.360508, 0.111439, -0.0733204, ..., -1.65297, 0.342735, 0.871474],\n",
       "        [0.977734, 2.28909, 0.82623, ..., 1.62936, -0.947261, 0.556224],\n",
       "        [-0.77323, 0.329918, 1.14783, ..., -1.64918, -0.443001, 0.692393],\n",
       "        [1.28988, -0.0404159, 1.21334, ..., 0.497808, -0.494038, -0.0139012],\n",
       "        [-1.94214, -0.209115, -1.64965, ..., 0.660396, -0.698628, -0.837091]],\n",
       "       [[0.977734, 2.28909, 0.82623, ..., 1.62936, -0.947261, 0.556224],\n",
       "        [1.28988, -0.0404159, 1.21334, ..., 0.497808, -0.494038, -0.0139012],\n",
       "        [-0.77323, 0.329918, 1.14783, ..., -1.64918, -0.443001, 0.692393],\n",
       "        [-1.94214, -0.209115, -1.64965, ..., 0.660396, -0.698628, -0.837091],\n",
       "        [0.360508, 0.111439, -0.0733204, ..., -1.65297, 0.342735, 0.871474]]], dtype=float32), is_mlx_tensor=True)"
      ]
     },
     "execution_count": 5,
     "metadata": {},
     "output_type": "execute_result"
    }
   ],
   "source": [
    "output"
   ]
  },
  {
   "cell_type": "code",
   "execution_count": 6,
   "metadata": {},
   "outputs": [
    {
     "data": {
      "text/plain": [
       "(1, 5, 10)"
      ]
     },
     "execution_count": 6,
     "metadata": {},
     "output_type": "execute_result"
    }
   ],
   "source": [
    "final = output[1:, :5]\n",
    "final.shape"
   ]
  },
  {
   "cell_type": "code",
   "execution_count": null,
   "metadata": {},
   "outputs": [],
   "source": []
  }
 ],
 "metadata": {
  "kernelspec": {
   "display_name": "native",
   "language": "python",
   "name": "python3"
  },
  "language_info": {
   "codemirror_mode": {
    "name": "ipython",
    "version": 3
   },
   "file_extension": ".py",
   "mimetype": "text/x-python",
   "name": "python",
   "nbconvert_exporter": "python",
   "pygments_lexer": "ipython3",
   "version": "3.10.14"
  }
 },
 "nbformat": 4,
 "nbformat_minor": 2
}
