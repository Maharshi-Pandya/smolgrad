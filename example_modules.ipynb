{
 "cells": [
  {
   "cell_type": "code",
   "execution_count": 1,
   "metadata": {},
   "outputs": [],
   "source": [
    "from smolgrad import Tensor\n",
    "from smolgrad.core import no_grad\n",
    "import smolgrad.nn as nn"
   ]
  },
  {
   "cell_type": "code",
   "execution_count": 2,
   "metadata": {},
   "outputs": [],
   "source": [
    "n_embd = 10\n",
    "block_size = 12\n",
    "vocab_size = 5\n",
    "\n",
    "model = nn.ModuleDict(dict(\n",
    "    wte = nn.Embedding(vocab_size, n_embd),\n",
    "    wpe = nn.Embedding(block_size, n_embd),\n",
    "    h = nn.ModuleList([nn.Linear(n_embd, n_embd) for _ in range(3)]),\n",
    "    ln_f = nn.LayerNorm(n_embd)\n",
    "))\n",
    "model.eval()"
   ]
  },
  {
   "cell_type": "code",
   "execution_count": 3,
   "metadata": {},
   "outputs": [
    {
     "name": "stdout",
     "output_type": "stream",
     "text": [
      "(2, 5)\n"
     ]
    }
   ],
   "source": [
    "input_tensor = Tensor([[1, 2, 3, 4, 0], [2, 4, 3, 0, 1]])\n",
    "print(input_tensor.shape)\n",
    "\n",
    "with no_grad():\n",
    "    output = model(input_tensor)"
   ]
  },
  {
   "cell_type": "code",
   "execution_count": 4,
   "metadata": {},
   "outputs": [
    {
     "data": {
      "text/plain": [
       "(2, 5, 10, 10)"
      ]
     },
     "execution_count": 4,
     "metadata": {},
     "output_type": "execute_result"
    }
   ],
   "source": [
    "output.shape"
   ]
  },
  {
   "cell_type": "code",
   "execution_count": 5,
   "metadata": {},
   "outputs": [
    {
     "data": {
      "text/plain": [
       "Tensor(array([[[[-0.215527, -0.203819, -0.938894, ..., -0.642981, 0.0311819, -1.03654],\n",
       "         [-0.924576, -0.708036, 0.528472, ..., -0.594191, 0.513018, -0.283306],\n",
       "         [-0.924576, -0.708036, 0.528472, ..., -0.594191, 0.513018, -0.283306],\n",
       "         ...,\n",
       "         [0.0902738, -0.0983551, -1.02787, ..., -0.849257, -0.342066, -0.495286],\n",
       "         [-0.215527, -0.203819, -0.938894, ..., -0.642981, 0.0311819, -1.03654],\n",
       "         [-0.215527, -0.203819, -0.938894, ..., -0.642981, 0.0311819, -1.03654]],\n",
       "        [[-0.924576, -0.708036, 0.528472, ..., -0.594191, 0.513018, -0.283306],\n",
       "         [-0.215527, -0.203819, -0.938894, ..., -0.642981, 0.0311819, -1.03654],\n",
       "         [-0.215527, -0.203819, -0.938894, ..., -0.642981, 0.0311819, -1.03654],\n",
       "         ...,\n",
       "         [-0.924576, -0.708036, 0.528472, ..., -0.594191, 0.513018, -0.283306],\n",
       "         [-0.215527, -0.203819, -0.938894, ..., -0.642981, 0.0311819, -1.03654],\n",
       "         [-0.215527, -0.203819, -0.938894, ..., -0.642981, 0.0311819, -1.03654]],\n",
       "        [[-0.782441, -0.717116, 0.478878, ..., -0.947493, 0.396219, -0.295742],\n",
       "         [-0.924576, -0.708036, 0.528472, ..., -0.594191, 0.513018, -0.283306],\n",
       "         [-0.215527, -0.203819, -0.938894, ..., -0.642981, 0.0311819, -1.03654],\n",
       "         ...,\n",
       "         [-0.215527, -0.203819, -0.938894, ..., -0.642981, 0.0311819, -1.03654],\n",
       "         [-0.215527, -0.203819, -0.938894, ..., -0.642981, 0.0311819, -1.03654],\n",
       "         [-0.924576, -0.708036, 0.528472, ..., -0.594191, 0.513018, -0.283306]],\n",
       "        [[-0.215527, -0.203819, -0.938894, ..., -0.642981, 0.0311819, -1.03654],\n",
       "         [-0.215527, -0.203819, -0.938894, ..., -0.642981, 0.0311819, -1.03654],\n",
       "         [-0.215527, -0.203819, -0.938894, ..., -0.642981, 0.0311819, -1.03654],\n",
       "         ...,\n",
       "         [-0.215527, -0.203819, -0.938894, ..., -0.642981, 0.0311819, -1.03654],\n",
       "         [-0.215527, -0.203819, -0.938894, ..., -0.642981, 0.0311819, -1.03654],\n",
       "         [0.0902738, -0.0983551, -1.02787, ..., -0.849257, -0.342066, -0.495286]],\n",
       "        [[-0.215527, -0.203819, -0.938894, ..., -0.642981, 0.0311819, -1.03654],\n",
       "         [-0.215527, -0.203819, -0.938894, ..., -0.642981, 0.0311819, -1.03654],\n",
       "         [-0.215527, -0.203819, -0.938894, ..., -0.642981, 0.0311819, -1.03654],\n",
       "         ...,\n",
       "         [-0.215527, -0.203819, -0.938894, ..., -0.642981, 0.0311819, -1.03654],\n",
       "         [0.0902738, -0.0983551, -1.02787, ..., -0.849257, -0.342066, -0.495286],\n",
       "         [-0.215527, -0.203819, -0.938894, ..., -0.642981, 0.0311819, -1.03654]]],\n",
       "       [[[-0.924576, -0.708036, 0.528472, ..., -0.594191, 0.513018, -0.283306],\n",
       "         [-0.215527, -0.203819, -0.938894, ..., -0.642981, 0.0311819, -1.03654],\n",
       "         [-0.215527, -0.203819, -0.938894, ..., -0.642981, 0.0311819, -1.03654],\n",
       "         ...,\n",
       "         [-0.924576, -0.708036, 0.528472, ..., -0.594191, 0.513018, -0.283306],\n",
       "         [-0.215527, -0.203819, -0.938894, ..., -0.642981, 0.0311819, -1.03654],\n",
       "         [-0.215527, -0.203819, -0.938894, ..., -0.642981, 0.0311819, -1.03654]],\n",
       "        [[-0.215527, -0.203819, -0.938894, ..., -0.642981, 0.0311819, -1.03654],\n",
       "         [-0.215527, -0.203819, -0.938894, ..., -0.642981, 0.0311819, -1.03654],\n",
       "         [-0.215527, -0.203819, -0.938894, ..., -0.642981, 0.0311819, -1.03654],\n",
       "         ...,\n",
       "         [-0.215527, -0.203819, -0.938894, ..., -0.642981, 0.0311819, -1.03654],\n",
       "         [-0.215527, -0.203819, -0.938894, ..., -0.642981, 0.0311819, -1.03654],\n",
       "         [0.0902738, -0.0983551, -1.02787, ..., -0.849257, -0.342066, -0.495286]],\n",
       "        [[-0.782441, -0.717116, 0.478878, ..., -0.947493, 0.396219, -0.295742],\n",
       "         [-0.924576, -0.708036, 0.528472, ..., -0.594191, 0.513018, -0.283306],\n",
       "         [-0.215527, -0.203819, -0.938894, ..., -0.642981, 0.0311819, -1.03654],\n",
       "         ...,\n",
       "         [-0.215527, -0.203819, -0.938894, ..., -0.642981, 0.0311819, -1.03654],\n",
       "         [-0.215527, -0.203819, -0.938894, ..., -0.642981, 0.0311819, -1.03654],\n",
       "         [-0.924576, -0.708036, 0.528472, ..., -0.594191, 0.513018, -0.283306]],\n",
       "        [[-0.215527, -0.203819, -0.938894, ..., -0.642981, 0.0311819, -1.03654],\n",
       "         [-0.215527, -0.203819, -0.938894, ..., -0.642981, 0.0311819, -1.03654],\n",
       "         [-0.215527, -0.203819, -0.938894, ..., -0.642981, 0.0311819, -1.03654],\n",
       "         ...,\n",
       "         [-0.215527, -0.203819, -0.938894, ..., -0.642981, 0.0311819, -1.03654],\n",
       "         [0.0902738, -0.0983551, -1.02787, ..., -0.849257, -0.342066, -0.495286],\n",
       "         [-0.215527, -0.203819, -0.938894, ..., -0.642981, 0.0311819, -1.03654]],\n",
       "        [[-0.215527, -0.203819, -0.938894, ..., -0.642981, 0.0311819, -1.03654],\n",
       "         [-0.924576, -0.708036, 0.528472, ..., -0.594191, 0.513018, -0.283306],\n",
       "         [-0.924576, -0.708036, 0.528472, ..., -0.594191, 0.513018, -0.283306],\n",
       "         ...,\n",
       "         [0.0902738, -0.0983551, -1.02787, ..., -0.849257, -0.342066, -0.495286],\n",
       "         [-0.215527, -0.203819, -0.938894, ..., -0.642981, 0.0311819, -1.03654],\n",
       "         [-0.215527, -0.203819, -0.938894, ..., -0.642981, 0.0311819, -1.03654]]]], dtype=float32), is_mlx_tensor=True)"
      ]
     },
     "execution_count": 5,
     "metadata": {},
     "output_type": "execute_result"
    }
   ],
   "source": [
    "output"
   ]
  },
  {
   "cell_type": "code",
   "execution_count": 6,
   "metadata": {},
   "outputs": [
    {
     "data": {
      "text/plain": [
       "(1, 5, 10, 10)"
      ]
     },
     "execution_count": 6,
     "metadata": {},
     "output_type": "execute_result"
    }
   ],
   "source": [
    "final = output[1:, :5]\n",
    "final.shape"
   ]
  },
  {
   "cell_type": "code",
   "execution_count": 7,
   "metadata": {},
   "outputs": [],
   "source": [
    "class MLP(nn.Module):\n",
    "    def __init__(self, device=\"gpu\"):\n",
    "        super().__init__(device=device)\n",
    "\n",
    "        self.c_fc = nn.Linear(n_embd, 4 * n_embd)\n",
    "        self.gelu = nn.GELU(approximate=\"tanh\")\n",
    "        self.transformer = nn.ModuleDict(dict(\n",
    "            wte = nn.Linear(40, 10),\n",
    "            h = nn.ModuleList([nn.Linear(10, 10) for _ in range(3)]),\n",
    "            ln_f = nn.LayerNorm(10)\n",
    "        ))\n",
    "        self.c_proj = nn.Linear(4 * n_embd, n_embd)\n",
    "\n",
    "    def forward(self, x: Tensor):\n",
    "        x = self.c_fc(x)\n",
    "        x = self.gelu(x)\n",
    "        x = self.c_proj(x)\n",
    "        return x"
   ]
  },
  {
   "cell_type": "code",
   "execution_count": 8,
   "metadata": {},
   "outputs": [],
   "source": [
    "model = MLP()"
   ]
  },
  {
   "cell_type": "code",
   "execution_count": 10,
   "metadata": {},
   "outputs": [
    {
     "name": "stdout",
     "output_type": "stream",
     "text": [
      "c_fc.weight (40, 10)\n",
      "c_fc.bias (40,)\n",
      "transformer.wte.weight (10, 40)\n",
      "transformer.wte.bias (10,)\n",
      "transformer.h.0.weight (10, 10)\n",
      "transformer.h.0.bias (10,)\n",
      "transformer.h.1.weight (10, 10)\n",
      "transformer.h.1.bias (10,)\n",
      "transformer.h.2.weight (10, 10)\n",
      "transformer.h.2.bias (10,)\n",
      "transformer.ln_f.weight (10,)\n",
      "transformer.ln_f.bias (10,)\n",
      "c_proj.weight (10, 40)\n",
      "c_proj.bias (10,)\n"
     ]
    }
   ],
   "source": [
    "for k, v in model.state_dict().items():\n",
    "    print(k, v.shape)"
   ]
  },
  {
   "cell_type": "code",
   "execution_count": 11,
   "metadata": {},
   "outputs": [],
   "source": [
    "import torch"
   ]
  },
  {
   "cell_type": "code",
   "execution_count": 12,
   "metadata": {},
   "outputs": [],
   "source": [
    "class MLP(torch.nn.Module):\n",
    "    def __init__(self, device=\"gpu\"):\n",
    "        super().__init__()\n",
    "\n",
    "        self.c_fc = torch.nn.Linear(n_embd, 4 * n_embd)\n",
    "        self.gelu = torch.nn.GELU(approximate=\"tanh\")\n",
    "        self.transformer = torch.nn.ModuleDict(dict(\n",
    "            wte =torch.nn.Linear(40, 10),\n",
    "            h = torch.nn.ModuleList([torch.nn.Linear(10, 10) for _ in range(3)]),\n",
    "            ln_f = torch.nn.LayerNorm(10)\n",
    "        ))\n",
    "        self.c_proj = torch.nn.Linear(4 * n_embd, n_embd)\n",
    "\n",
    "    def forward(self, x: torch.Tensor):\n",
    "        x = self.c_fc(x)\n",
    "        x = self.gelu(x)\n",
    "        x = self.c_proj(x)\n",
    "        return x"
   ]
  },
  {
   "cell_type": "code",
   "execution_count": 13,
   "metadata": {},
   "outputs": [
    {
     "name": "stdout",
     "output_type": "stream",
     "text": [
      "c_fc.weight (40, 10)\n",
      "c_fc.bias (40,)\n",
      "transformer.wte.weight (10, 40)\n",
      "transformer.wte.bias (10,)\n",
      "transformer.h.0.weight (10, 10)\n",
      "transformer.h.0.bias (10,)\n",
      "transformer.h.1.weight (10, 10)\n",
      "transformer.h.1.bias (10,)\n",
      "transformer.h.2.weight (10, 10)\n",
      "transformer.h.2.bias (10,)\n",
      "transformer.ln_f.weight (10,)\n",
      "transformer.ln_f.bias (10,)\n",
      "c_proj.weight (10, 40)\n",
      "c_proj.bias (10,)\n"
     ]
    }
   ],
   "source": [
    "model_pt = MLP()\n",
    "for k, v in model.state_dict().items():\n",
    "    print(k, v.shape)"
   ]
  },
  {
   "cell_type": "code",
   "execution_count": null,
   "metadata": {},
   "outputs": [],
   "source": []
  }
 ],
 "metadata": {
  "kernelspec": {
   "display_name": "native",
   "language": "python",
   "name": "python3"
  },
  "language_info": {
   "codemirror_mode": {
    "name": "ipython",
    "version": 3
   },
   "file_extension": ".py",
   "mimetype": "text/x-python",
   "name": "python",
   "nbconvert_exporter": "python",
   "pygments_lexer": "ipython3",
   "version": "3.10.14"
  }
 },
 "nbformat": 4,
 "nbformat_minor": 2
}
