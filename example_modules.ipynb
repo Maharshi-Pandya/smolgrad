{
 "cells": [
  {
   "cell_type": "code",
   "execution_count": 7,
   "metadata": {},
   "outputs": [],
   "source": [
    "from smolgrad import Tensor\n",
    "from smolgrad.core import no_grad\n",
    "import smolgrad.nn as nn"
   ]
  },
  {
   "cell_type": "code",
   "execution_count": 8,
   "metadata": {},
   "outputs": [],
   "source": [
    "n_embd = 10\n",
    "block_size = 12\n",
    "vocab_size = 5\n",
    "\n",
    "model = nn.ModuleDict(dict(\n",
    "    wte = nn.Embedding(vocab_size, n_embd),\n",
    "    # wpe = nn.Embedding(block_size, n_embd),\n",
    "    # h = nn.ModuleList([nn.Linear(n_embd, n_embd) for _ in range(3)]),\n",
    "    # ln_f = nn.LayerNorm(n_embd)\n",
    "))\n",
    "model.eval()"
   ]
  },
  {
   "cell_type": "code",
   "execution_count": 9,
   "metadata": {},
   "outputs": [
    {
     "name": "stdout",
     "output_type": "stream",
     "text": [
      "(2, 5)\n"
     ]
    }
   ],
   "source": [
    "input_tensor = Tensor([[1, 2, 3, 4, 0], [2, 4, 3, 0, 1]])\n",
    "print(input_tensor.shape)\n",
    "\n",
    "with no_grad():\n",
    "    output = model(input_tensor)"
   ]
  },
  {
   "cell_type": "code",
   "execution_count": 10,
   "metadata": {},
   "outputs": [
    {
     "data": {
      "text/plain": [
       "(2, 5, 10)"
      ]
     },
     "execution_count": 10,
     "metadata": {},
     "output_type": "execute_result"
    }
   ],
   "source": [
    "output.shape"
   ]
  },
  {
   "cell_type": "code",
   "execution_count": 11,
   "metadata": {},
   "outputs": [
    {
     "data": {
      "text/plain": [
       "Tensor(array([[[-1.03484, 0.389779, 1.22492, ..., 0.426276, -1.68207, 0.510002],\n",
       "        [-0.918605, -1.08263, 0.607788, ..., 0.593178, 1.08174, 2.11475],\n",
       "        [2.67535, -0.582255, 2.45296, ..., 0.680948, 1.24842, -0.391916],\n",
       "        [0.747184, 0.59243, 0.367085, ..., -0.0384014, -0.117885, -0.724893],\n",
       "        [0.604157, 0.647395, 1.82288, ..., -0.00635244, -0.137573, -0.540718]],\n",
       "       [[-0.918605, -1.08263, 0.607788, ..., 0.593178, 1.08174, 2.11475],\n",
       "        [0.747184, 0.59243, 0.367085, ..., -0.0384014, -0.117885, -0.724893],\n",
       "        [2.67535, -0.582255, 2.45296, ..., 0.680948, 1.24842, -0.391916],\n",
       "        [0.604157, 0.647395, 1.82288, ..., -0.00635244, -0.137573, -0.540718],\n",
       "        [-1.03484, 0.389779, 1.22492, ..., 0.426276, -1.68207, 0.510002]]], dtype=float32), is_mlx_tensor=True)"
      ]
     },
     "execution_count": 11,
     "metadata": {},
     "output_type": "execute_result"
    }
   ],
   "source": [
    "output"
   ]
  },
  {
   "cell_type": "code",
   "execution_count": 12,
   "metadata": {},
   "outputs": [
    {
     "data": {
      "text/plain": [
       "(1, 5, 10)"
      ]
     },
     "execution_count": 12,
     "metadata": {},
     "output_type": "execute_result"
    }
   ],
   "source": [
    "final = output[1:, :5]\n",
    "final.shape"
   ]
  },
  {
   "cell_type": "code",
   "execution_count": null,
   "metadata": {},
   "outputs": [],
   "source": []
  }
 ],
 "metadata": {
  "kernelspec": {
   "display_name": "native",
   "language": "python",
   "name": "python3"
  },
  "language_info": {
   "codemirror_mode": {
    "name": "ipython",
    "version": 3
   },
   "file_extension": ".py",
   "mimetype": "text/x-python",
   "name": "python",
   "nbconvert_exporter": "python",
   "pygments_lexer": "ipython3",
   "version": "3.10.14"
  }
 },
 "nbformat": 4,
 "nbformat_minor": 2
}
